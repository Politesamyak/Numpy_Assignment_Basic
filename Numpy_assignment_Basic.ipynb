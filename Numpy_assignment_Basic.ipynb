{
 "cells": [
  {
   "cell_type": "code",
   "execution_count": 2,
   "id": "9bf2d951-c651-47f9-874d-cff133cd0cd1",
   "metadata": {},
   "outputs": [],
   "source": [
    "#Q1. Is there any difference in the data type of variables list_ and array_list? If there is then write a code\n",
    "#to print the data types of both the variables.\n",
    "\n",
    "import numpy as np\n",
    "list_ = [ '1' , '2' , '3' , '4' , '5' ]\n",
    "array_list = np.array(object = list_)"
   ]
  },
  {
   "cell_type": "code",
   "execution_count": 3,
   "id": "dcda23db-ce6e-48f0-b28c-d1e9bbf78b4b",
   "metadata": {},
   "outputs": [
    {
     "data": {
      "text/plain": [
       "array(['1', '2', '3', '4', '5'], dtype='<U1')"
      ]
     },
     "execution_count": 3,
     "metadata": {},
     "output_type": "execute_result"
    }
   ],
   "source": [
    "array_list"
   ]
  },
  {
   "cell_type": "code",
   "execution_count": 4,
   "id": "d12e5339-38f5-432e-980a-173ce1b829df",
   "metadata": {},
   "outputs": [
    {
     "data": {
      "text/plain": [
       "list"
      ]
     },
     "execution_count": 4,
     "metadata": {},
     "output_type": "execute_result"
    }
   ],
   "source": [
    "type(list_)"
   ]
  },
  {
   "cell_type": "code",
   "execution_count": 5,
   "id": "a33604aa-641c-415c-9c7f-f4ae99cddb29",
   "metadata": {},
   "outputs": [
    {
     "data": {
      "text/plain": [
       "numpy.ndarray"
      ]
     },
     "execution_count": 5,
     "metadata": {},
     "output_type": "execute_result"
    }
   ],
   "source": [
    "type(array_list)"
   ]
  },
  {
   "cell_type": "code",
   "execution_count": 6,
   "id": "8590d2d7-25dc-4f84-a9ea-2c6c9aed63f9",
   "metadata": {},
   "outputs": [
    {
     "name": "stdout",
     "output_type": "stream",
     "text": [
      "<class 'int'>\n",
      "<class 'str'>\n",
      "<class 'float'>\n",
      "<class 'bool'>\n",
      "<class 'numpy.int64'>\n",
      "<class 'numpy.int64'>\n",
      "<class 'numpy.int64'>\n",
      "<class 'numpy.int64'>\n"
     ]
    }
   ],
   "source": [
    "# Q2. Write a code to print the data type of each and every element of both the variables list_ and\n",
    "# arra_list.\n",
    "\n",
    "import numpy as np\n",
    "list_ = [1, 'hello', 3.14, True]\n",
    "arra_list = np.array([1, 2, 3, 4])\n",
    "\n",
    "for element in list_:\n",
    "    print(type(element))\n",
    "\n",
    "for element in arra_list:\n",
    "    print(type(element))"
   ]
  },
  {
   "cell_type": "code",
   "execution_count": 8,
   "id": "7dda1bd1-1b58-419f-aabb-6db3544fa7fe",
   "metadata": {},
   "outputs": [
    {
     "ename": "ValueError",
     "evalue": "invalid literal for int() with base 10: 'hello'",
     "output_type": "error",
     "traceback": [
      "\u001b[0;31m---------------------------------------------------------------------------\u001b[0m",
      "\u001b[0;31mValueError\u001b[0m                                Traceback (most recent call last)",
      "Cell \u001b[0;32mIn[8], line 8\u001b[0m\n\u001b[1;32m      1\u001b[0m \u001b[38;5;66;03m# Q3. Considering the following changes in the variable, array_list:\u001b[39;00m\n\u001b[1;32m      2\u001b[0m \u001b[38;5;66;03m# array_list = np.array(object = list_, dtype = int)\u001b[39;00m\n\u001b[1;32m      3\u001b[0m \u001b[38;5;66;03m# Will there be any difference in the data type of the elements present in both the variables, list_ and\u001b[39;00m\n\u001b[1;32m      4\u001b[0m \u001b[38;5;66;03m# arra_list? If so then print the data types of each and every element present in both the variables, list_\u001b[39;00m\n\u001b[1;32m      5\u001b[0m \u001b[38;5;66;03m# and arra_list.\u001b[39;00m\n\u001b[1;32m      7\u001b[0m list_ \u001b[38;5;241m=\u001b[39m [\u001b[38;5;241m1\u001b[39m, \u001b[38;5;124m'\u001b[39m\u001b[38;5;124mhello\u001b[39m\u001b[38;5;124m'\u001b[39m, \u001b[38;5;241m3.14\u001b[39m, \u001b[38;5;28;01mTrue\u001b[39;00m]\n\u001b[0;32m----> 8\u001b[0m arra_list \u001b[38;5;241m=\u001b[39m \u001b[43mnp\u001b[49m\u001b[38;5;241;43m.\u001b[39;49m\u001b[43marray\u001b[49m\u001b[43m(\u001b[49m\u001b[38;5;28;43mobject\u001b[39;49m\u001b[38;5;241;43m=\u001b[39;49m\u001b[43mlist_\u001b[49m\u001b[43m,\u001b[49m\u001b[43m \u001b[49m\u001b[43mdtype\u001b[49m\u001b[38;5;241;43m=\u001b[39;49m\u001b[38;5;28;43mint\u001b[39;49m\u001b[43m)\u001b[49m\n\u001b[1;32m     10\u001b[0m \u001b[38;5;28;01mfor\u001b[39;00m element \u001b[38;5;129;01min\u001b[39;00m list_:\n\u001b[1;32m     11\u001b[0m     \u001b[38;5;28mprint\u001b[39m(\u001b[38;5;124mf\u001b[39m\u001b[38;5;124m\"\u001b[39m\u001b[38;5;124mData type of element \u001b[39m\u001b[38;5;132;01m{\u001b[39;00melement\u001b[38;5;132;01m}\u001b[39;00m\u001b[38;5;124m in list_: \u001b[39m\u001b[38;5;132;01m{\u001b[39;00m\u001b[38;5;28mtype\u001b[39m(element)\u001b[38;5;132;01m}\u001b[39;00m\u001b[38;5;124m\"\u001b[39m)\n",
      "\u001b[0;31mValueError\u001b[0m: invalid literal for int() with base 10: 'hello'"
     ]
    }
   ],
   "source": [
    "# Q3. Considering the following changes in the variable, array_list:\n",
    "# array_list = np.array(object = list_, dtype = int)\n",
    "# Will there be any difference in the data type of the elements present in both the variables, list_ and\n",
    "# arra_list? If so then print the data types of each and every element present in both the variables, list_\n",
    "# and arra_list.\n",
    "\n",
    "list_ = [1, 'hello', 3.14, True]\n",
    "arra_list = np.array(object=list_, dtype=int)\n",
    "\n",
    "for element in list_:\n",
    "    print(f\"Data type of element {element} in list_: {type(element)}\")\n",
    "\n",
    "for element in arra_list:\n",
    "    print(f\"Data type of element {element} in arra_list: {type(element)}\")\n"
   ]
  },
  {
   "cell_type": "code",
   "execution_count": null,
   "id": "5e91ac74-6092-4527-8f02-6b08b633aaff",
   "metadata": {},
   "outputs": [],
   "source": [
    "import numpy as np\n",
    "num_list = [ [ 1 , 2 , 3 ] , [ 4 , 5 , 6 ] ]\n",
    "num_array = np.array(object = num_list)\n",
    "num_array"
   ]
  },
  {
   "cell_type": "code",
   "execution_count": 9,
   "id": "4d012d64-d7c2-4942-be87-90e22e426e80",
   "metadata": {},
   "outputs": [
    {
     "ename": "NameError",
     "evalue": "name 'num_array' is not defined",
     "output_type": "error",
     "traceback": [
      "\u001b[0;31m---------------------------------------------------------------------------\u001b[0m",
      "\u001b[0;31mNameError\u001b[0m                                 Traceback (most recent call last)",
      "Cell \u001b[0;32mIn[9], line 5\u001b[0m\n\u001b[1;32m      1\u001b[0m \u001b[38;5;66;03m#  Q4. Write a code to find the following characteristics of variable, num_array:\u001b[39;00m\n\u001b[1;32m      2\u001b[0m \u001b[38;5;66;03m#  (i) shape\u001b[39;00m\n\u001b[1;32m      3\u001b[0m \u001b[38;5;66;03m#  (ii) size\u001b[39;00m\n\u001b[0;32m----> 5\u001b[0m \u001b[43mnum_array\u001b[49m\u001b[38;5;241m.\u001b[39mshape\n",
      "\u001b[0;31mNameError\u001b[0m: name 'num_array' is not defined"
     ]
    }
   ],
   "source": [
    "#  Q4. Write a code to find the following characteristics of variable, num_array:\n",
    "#  (i) shape\n",
    "#  (ii) size\n",
    "\n",
    "num_array.shape"
   ]
  },
  {
   "cell_type": "code",
   "execution_count": null,
   "id": "76fc4eae-4266-4251-b48a-2d094c7f70f2",
   "metadata": {},
   "outputs": [],
   "source": []
  }
 ],
 "metadata": {
  "kernelspec": {
   "display_name": "Python 3 (ipykernel)",
   "language": "python",
   "name": "python3"
  },
  "language_info": {
   "codemirror_mode": {
    "name": "ipython",
    "version": 3
   },
   "file_extension": ".py",
   "mimetype": "text/x-python",
   "name": "python",
   "nbconvert_exporter": "python",
   "pygments_lexer": "ipython3",
   "version": "3.10.8"
  }
 },
 "nbformat": 4,
 "nbformat_minor": 5
}
